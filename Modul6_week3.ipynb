{
  "nbformat": 4,
  "nbformat_minor": 0,
  "metadata": {
    "colab": {
      "provenance": [],
      "gpuType": "T4",
      "authorship_tag": "ABX9TyP5CNbJfyDYy5qfNruLzqJF",
      "include_colab_link": true
    },
    "kernelspec": {
      "name": "python3",
      "display_name": "Python 3"
    },
    "language_info": {
      "name": "python"
    },
    "accelerator": "GPU"
  },
  "cells": [
    {
      "cell_type": "markdown",
      "metadata": {
        "id": "view-in-github",
        "colab_type": "text"
      },
      "source": [
        "<a href=\"https://colab.research.google.com/github/thuyk39nguyen/AIO/blob/main/Modul6_week3.ipynb\" target=\"_parent\"><img src=\"https://colab.research.google.com/assets/colab-badge.svg\" alt=\"Open In Colab\"/></a>"
      ]
    },
    {
      "cell_type": "markdown",
      "source": [
        "## **Problem 01: Sentiment Analysis for Financial News**"
      ],
      "metadata": {
        "id": "BVzdbaIW--Ws"
      }
    },
    {
      "cell_type": "markdown",
      "source": [
        "Chúng ta sẽ xây dựng một mô hình về Text Classfication dùng để phân loại tình hình tin tức tài chính là tích cực (positive), tiêu cực (negative) hay trung lập (neutral) dựa trên một đoạn văn có nội dung về tài chính cho trước."
      ],
      "metadata": {
        "id": "lZ8Rnet5_M8b"
      }
    },
    {
      "cell_type": "code",
      "source": [
        "!pip install torch nltk unidecode"
      ],
      "metadata": {
        "colab": {
          "base_uri": "https://localhost:8080/"
        },
        "id": "nYb0p1QW_tXD",
        "outputId": "743e815b-e6fa-4164-9b47-8f7cf84e5df3"
      },
      "execution_count": null,
      "outputs": [
        {
          "output_type": "stream",
          "name": "stdout",
          "text": [
            "Requirement already satisfied: torch in /usr/local/lib/python3.10/dist-packages (2.5.1+cu121)\n",
            "Requirement already satisfied: nltk in /usr/local/lib/python3.10/dist-packages (3.9.1)\n",
            "Requirement already satisfied: unidecode in /usr/local/lib/python3.10/dist-packages (1.3.8)\n",
            "Requirement already satisfied: filelock in /usr/local/lib/python3.10/dist-packages (from torch) (3.16.1)\n",
            "Requirement already satisfied: typing-extensions>=4.8.0 in /usr/local/lib/python3.10/dist-packages (from torch) (4.12.2)\n",
            "Requirement already satisfied: networkx in /usr/local/lib/python3.10/dist-packages (from torch) (3.4.2)\n",
            "Requirement already satisfied: jinja2 in /usr/local/lib/python3.10/dist-packages (from torch) (3.1.4)\n",
            "Requirement already satisfied: fsspec in /usr/local/lib/python3.10/dist-packages (from torch) (2024.10.0)\n",
            "Requirement already satisfied: sympy==1.13.1 in /usr/local/lib/python3.10/dist-packages (from torch) (1.13.1)\n",
            "Requirement already satisfied: mpmath<1.4,>=1.1.0 in /usr/local/lib/python3.10/dist-packages (from sympy==1.13.1->torch) (1.3.0)\n",
            "Requirement already satisfied: click in /usr/local/lib/python3.10/dist-packages (from nltk) (8.1.7)\n",
            "Requirement already satisfied: joblib in /usr/local/lib/python3.10/dist-packages (from nltk) (1.4.2)\n",
            "Requirement already satisfied: regex>=2021.8.3 in /usr/local/lib/python3.10/dist-packages (from nltk) (2024.11.6)\n",
            "Requirement already satisfied: tqdm in /usr/local/lib/python3.10/dist-packages (from nltk) (4.67.1)\n",
            "Requirement already satisfied: MarkupSafe>=2.0 in /usr/local/lib/python3.10/dist-packages (from jinja2->torch) (3.0.2)\n"
          ]
        }
      ]
    },
    {
      "cell_type": "code",
      "execution_count": null,
      "metadata": {
        "colab": {
          "base_uri": "https://localhost:8080/"
        },
        "id": "-eTqDXCM3VyL",
        "outputId": "63c0a71b-8c50-4019-d303-49414cc52e33"
      },
      "outputs": [
        {
          "output_type": "stream",
          "name": "stderr",
          "text": [
            "[nltk_data] Downloading package stopwords to /root/nltk_data...\n",
            "[nltk_data]   Package stopwords is already up-to-date!\n"
          ]
        }
      ],
      "source": [
        "import torch\n",
        "import torch.nn as nn\n",
        "\n",
        "# Set seed for reproducibility\n",
        "seed = 1\n",
        "torch.manual_seed(seed)\n",
        "\n",
        "# Standard libraries\n",
        "import os\n",
        "import numpy as np\n",
        "import pandas as pd\n",
        "import matplotlib.pyplot as plt\n",
        "import re\n",
        "import nltk\n",
        "import unidecode\n",
        "\n",
        "import matplotlib.pyplot as plt\n",
        "\n",
        "# NLTK setup\n",
        "nltk.download('stopwords')\n",
        "from nltk.corpus import stopwords\n",
        "from nltk.stem.porter import PorterStemmer\n",
        "\n",
        "# PyTorch utilities\n",
        "from torch.utils.data import Dataset, DataLoader\n",
        "\n",
        "# Sklearn train-test split\n",
        "from sklearn.model_selection import train_test_split"
      ]
    },
    {
      "cell_type": "code",
      "source": [
        "!unzip /content/dataset.zip"
      ],
      "metadata": {
        "colab": {
          "base_uri": "https://localhost:8080/"
        },
        "id": "ke49Md-C_gV0",
        "outputId": "6f949526-0613-41ad-80a9-5551ad253d2d"
      },
      "execution_count": null,
      "outputs": [
        {
          "output_type": "stream",
          "name": "stdout",
          "text": [
            "Archive:  /content/dataset.zip\n",
            "   creating: dataset/\n",
            "  inflating: dataset/all-data.csv    \n"
          ]
        }
      ]
    },
    {
      "cell_type": "markdown",
      "source": [
        "3. Đọc bộ dữ liệu:"
      ],
      "metadata": {
        "id": "aQUITwLT3--F"
      }
    },
    {
      "cell_type": "code",
      "source": [
        "dataset_path = 'dataset/all-data.csv'\n",
        "headers = ['sentiment', 'content']\n",
        "df = pd.read_csv(dataset_path, names = headers, encoding ='ISO-8859-1')"
      ],
      "metadata": {
        "id": "7a1OWBvM3hMc"
      },
      "execution_count": null,
      "outputs": []
    },
    {
      "cell_type": "markdown",
      "source": [
        "Ta có thể xác định được danh sách các class của bài toán bằng phương thức unique() của Pandas, đồng thời ta cũng sẽ đổi class dạng string thành số nguyên đại diện cho ID của\n",
        "chúng:"
      ],
      "metadata": {
        "id": "ztlW3dTT4I2z"
      }
    },
    {
      "cell_type": "code",
      "source": [
        "classes = {class_name : idx for idx , class_name in enumerate (df['sentiment'].unique ().tolist())}\n",
        "df['sentiment'] = df['sentiment'].apply(lambda x: classes [x])"
      ],
      "metadata": {
        "id": "R0yeJv4G4LFU"
      },
      "execution_count": null,
      "outputs": []
    },
    {
      "cell_type": "markdown",
      "source": [
        "4. Tiền xử lý dữ liệu:"
      ],
      "metadata": {
        "id": "iZc1MhkZ4fW0"
      }
    },
    {
      "cell_type": "code",
      "source": [
        "english_stop_words = stopwords.words ('english')\n",
        "stemmer = PorterStemmer ()\n",
        "\n",
        "def text_normalize ( text ):\n",
        "  text = text.lower ()\n",
        "  text = unidecode.unidecode ( text )\n",
        "  text = text.strip ()\n",
        "  text = re.sub (r'[^\\w\\s]', '', text )\n",
        "  text = ''. join ([ word for word in text.split ('') if word not in english_stop_words ])\n",
        "  text = ''. join ([ stemmer.stem ( word ) for word in text.split ('') ])\n",
        "\n",
        "  return text"
      ],
      "metadata": {
        "id": "u4cTE-5R4ghE"
      },
      "execution_count": null,
      "outputs": []
    },
    {
      "cell_type": "markdown",
      "source": [
        "5. Xây dựng bộ từ vựng:\n",
        "Trong đó, ’UNK’ đại diện cho các từ không thuộc bộ từ vựng và ’PAD’ đại diện cho các ô trống được thêm vào để thỏa mãn độ dài tối thiểu của một văn bản mà ta quy định về sau."
      ],
      "metadata": {
        "id": "TnACsdK846lM"
      }
    },
    {
      "cell_type": "code",
      "source": [
        "vocab = []\n",
        "for sentence in df['content']. tolist () :\n",
        "  tokens = sentence.split ()\n",
        "  for token in tokens :\n",
        "    if token not in vocab :\n",
        "      vocab.append ( token )\n",
        "\n",
        "vocab.append ('UNK')\n",
        "vocab.append ('PAD')\n",
        "word_to_idx = { word: idx for idx , word in enumerate (vocab)}\n",
        "vocab_size = len(vocab)"
      ],
      "metadata": {
        "id": "ouaeNh5Q49r8"
      },
      "execution_count": null,
      "outputs": []
    },
    {
      "cell_type": "markdown",
      "source": [
        "Với bộ từ vựng trên, ta xây dựng hàm transform() dùng để chuyển đổi văn bản thành danh sách các số nguyên như sau:"
      ],
      "metadata": {
        "id": "PdH8cZ9l5bwE"
      }
    },
    {
      "cell_type": "code",
      "source": [
        "def transform (text , word_to_idx , max_seq_len ) :\n",
        "  tokens = []\n",
        "  for w in text.split () :\n",
        "    try :\n",
        "      w_ids = word_to_idx [w]\n",
        "    except :\n",
        "      w_ids = word_to_idx ['UNK']\n",
        "    tokens.append ( w_ids )\n",
        "\n",
        "  if len( tokens ) < max_seq_len :\n",
        "    tokens += [ word_to_idx ['PAD']] * ( max_seq_len - len( tokens ) )\n",
        "  elif len( tokens ) > max_seq_len :\n",
        "    tokens = tokens [: max_seq_len ]\n",
        "\n",
        "  return tokens"
      ],
      "metadata": {
        "id": "2OjkVBK-5fik"
      },
      "execution_count": null,
      "outputs": []
    },
    {
      "cell_type": "markdown",
      "source": [
        "6. Chia bộ dữ liệu train, val, test:"
      ],
      "metadata": {
        "id": "UOKnTTGy59xt"
      }
    },
    {
      "cell_type": "code",
      "source": [
        "val_size = 0.2\n",
        "test_size = 0.125\n",
        "is_shuffle = True\n",
        "texts = df['content'].tolist ()\n",
        "labels = df['sentiment'].tolist ()\n",
        "\n",
        "X_train , X_val , y_train , y_val = train_test_split (texts , labels , test_size = val_size , random_state =seed , shuffle = is_shuffle)\n",
        "\n",
        "X_train , X_test , y_train , y_test = train_test_split (X_train , y_train , test_size = val_size , random_state =seed , shuffle = is_shuffle)"
      ],
      "metadata": {
        "id": "yRfLrEnR5-tb"
      },
      "execution_count": null,
      "outputs": []
    },
    {
      "cell_type": "markdown",
      "source": [
        "7. Xây dựng pytorch datasets:"
      ],
      "metadata": {
        "id": "lNUPI-Dw6YTU"
      }
    },
    {
      "cell_type": "code",
      "source": [
        "class FinancialNews ( Dataset ) :\n",
        "  def __init__ (self , X, y, word_to_idx , max_seq_len ,transform = None) :\n",
        "    self.texts = X\n",
        "    self.labels = y\n",
        "    self.word_to_idx = word_to_idx\n",
        "    self.max_seq_len = max_seq_len\n",
        "    self.transform = transform\n",
        "\n",
        "  def __len__ ( self ) :\n",
        "    return len( self.texts )\n",
        "\n",
        "  def __getitem__ (self , idx) :\n",
        "    text = self.texts [ idx]\n",
        "    label = self.labels [idx]\n",
        "\n",
        "    if self.transform :\n",
        "      text = self.transform (text , self.word_to_idx , self.max_seq_len)\n",
        "      text = torch.tensor ( text )\n",
        "    return text , label"
      ],
      "metadata": {
        "id": "hrjMV--k6lth"
      },
      "execution_count": null,
      "outputs": []
    },
    {
      "cell_type": "code",
      "source": [
        "# Sequence length\n",
        "max_seq_len = 32\n",
        "\n",
        "# Create datasets for training, validation, and testing\n",
        "train_dataset = FinancialNews(\n",
        "    X_train, y_train,\n",
        "    word_to_idx=word_to_idx,\n",
        "    max_seq_len=max_seq_len,\n",
        "    transform=transform\n",
        ")\n",
        "\n",
        "val_dataset = FinancialNews(\n",
        "    X_val, y_val,\n",
        "    word_to_idx=word_to_idx,\n",
        "    max_seq_len=max_seq_len,\n",
        "    transform=transform\n",
        ")\n",
        "\n",
        "test_dataset = FinancialNews(\n",
        "    X_test, y_test,\n",
        "    word_to_idx=word_to_idx,\n",
        "    max_seq_len=max_seq_len,\n",
        "    transform=transform\n",
        ")\n",
        "\n",
        "# Batch sizes for training and testing\n",
        "train_batch_size = 128\n",
        "test_batch_size = 8\n",
        "\n",
        "# Create DataLoaders for training, validation, and testing\n",
        "train_loader = DataLoader(\n",
        "    train_dataset,\n",
        "    batch_size=train_batch_size,\n",
        "    shuffle=True\n",
        ")\n",
        "\n",
        "val_loader = DataLoader(\n",
        "    val_dataset,\n",
        "    batch_size=test_batch_size,\n",
        "    shuffle=False\n",
        ")\n",
        "\n",
        "test_loader = DataLoader(\n",
        "    test_dataset,\n",
        "    batch_size=test_batch_size,\n",
        "    shuffle=False\n",
        ")"
      ],
      "metadata": {
        "id": "OQF3wP5V7qos"
      },
      "execution_count": null,
      "outputs": []
    },
    {
      "cell_type": "markdown",
      "source": [
        "9. Xây dựng mô hình:"
      ],
      "metadata": {
        "id": "rZp_L2S48Rk4"
      }
    },
    {
      "cell_type": "code",
      "source": [
        "import torch\n",
        "import torch.nn as nn\n",
        "\n",
        "# Sentiment Classifier model\n",
        "class SentimentClassifier(nn.Module):\n",
        "    def __init__(self, vocab_size, embedding_dim, hidden_size, n_layers, n_classes, dropout_prob):\n",
        "        super(SentimentClassifier, self).__init__()\n",
        "\n",
        "        # Embedding layer\n",
        "        self.embedding = nn.Embedding(vocab_size, embedding_dim)\n",
        "\n",
        "        # RNN layer\n",
        "        self.rnn = nn.RNN(embedding_dim, hidden_size, n_layers, batch_first=True)\n",
        "\n",
        "        # Normalization and regularization layers\n",
        "        self.norm = nn.LayerNorm(hidden_size)\n",
        "        self.dropout = nn.Dropout(dropout_prob)\n",
        "\n",
        "        # Fully connected layers\n",
        "        self.fc1 = nn.Linear(hidden_size, 16)\n",
        "        self.relu = nn.ReLU()\n",
        "        self.fc2 = nn.Linear(16, n_classes)\n",
        "\n",
        "    def forward(self, x):\n",
        "        # Pass through embedding layer\n",
        "        x = self.embedding(x)\n",
        "\n",
        "        # Pass through RNN\n",
        "        x, _ = self.rnn(x)\n",
        "\n",
        "        # Extract the output of the last time step\n",
        "        x = x[:, -1, :]\n",
        "\n",
        "        # Apply normalization, dropout, and fully connected layers\n",
        "        x = self.norm(x)\n",
        "        x = self.dropout(x)\n",
        "        x = self.fc1(x)\n",
        "        x = self.relu(x)\n",
        "        x = self.fc2(x)\n",
        "\n",
        "        return x"
      ],
      "metadata": {
        "id": "mczTapAm8mJT"
      },
      "execution_count": null,
      "outputs": []
    },
    {
      "cell_type": "markdown",
      "source": [
        "Với class trên, ta khai báo mô hình SentimentClassifier:"
      ],
      "metadata": {
        "id": "1L1RpiIr86jD"
      }
    },
    {
      "cell_type": "code",
      "source": [
        "# Define model parameters\n",
        "n_classes = len(list(classes.keys()))  # Number of output classes\n",
        "embedding_dim = 64                    # Dimension of word embeddings\n",
        "hidden_size = 64                      # Hidden layer size in RNN\n",
        "n_layers = 2                          # Number of RNN layers\n",
        "dropout_prob = 0.2                    # Dropout probability\n",
        "\n",
        "# Check if CUDA is available for GPU computation\n",
        "device = 'cuda' if torch.cuda.is_available() else 'cpu'\n",
        "\n",
        "# Initialize the SentimentClassifier model and move it to the appropriate device\n",
        "model = SentimentClassifier(\n",
        "    vocab_size=vocab_size,\n",
        "    embedding_dim=embedding_dim,\n",
        "    hidden_size=hidden_size,\n",
        "    n_layers=n_layers,\n",
        "    n_classes=n_classes,\n",
        "    dropout_prob=dropout_prob\n",
        ").to(device)"
      ],
      "metadata": {
        "id": "87GprVOF9K3j"
      },
      "execution_count": null,
      "outputs": []
    },
    {
      "cell_type": "markdown",
      "source": [
        "10. Cài đặt hàm loss và optimizer:"
      ],
      "metadata": {
        "id": "xLLfSx6q9PrL"
      }
    },
    {
      "cell_type": "code",
      "source": [
        "lr = 1e-4\n",
        "epochs = 50\n",
        "\n",
        "criterion = nn. CrossEntropyLoss ()\n",
        "optimizer = torch.optim.Adam (model.parameters () , lr=lr)"
      ],
      "metadata": {
        "id": "C3USEZ5k9Qyj"
      },
      "execution_count": null,
      "outputs": []
    },
    {
      "cell_type": "markdown",
      "source": [
        "11. Thực hiện huấn luyện:"
      ],
      "metadata": {
        "id": "pfPtjScG9ct8"
      }
    },
    {
      "cell_type": "code",
      "source": [
        "def fit(model, train_loader, val_loader, criterion, optimizer, device, epochs):\n",
        "    \"\"\"\n",
        "    Hàm huấn luyện mô hình với tập dữ liệu huấn luyện và đánh giá trên tập validation.\n",
        "    \"\"\"\n",
        "    train_losses = []  # Lưu trữ loss của từng epoch trong tập huấn luyện\n",
        "    val_losses = []    # Lưu trữ loss của từng epoch trong tập validation\n",
        "\n",
        "    # Vòng lặp huấn luyện qua từng epoch\n",
        "    for epoch in range(epochs):\n",
        "        model.train()  # Đặt mô hình ở chế độ huấn luyện\n",
        "        batch_train_losses = []  # Lưu trữ loss của từng batch trong epoch\n",
        "\n",
        "        for idx, (inputs, labels) in enumerate(train_loader):\n",
        "            # Đưa dữ liệu vào thiết bị (GPU hoặc CPU)\n",
        "            inputs, labels = inputs.to(device), labels.to(device)\n",
        "\n",
        "            # Reset gradient\n",
        "            optimizer.zero_grad()\n",
        "\n",
        "            # Forward pass\n",
        "            outputs = model(inputs)\n",
        "            loss = criterion(outputs, labels)\n",
        "\n",
        "            # Backward pass và cập nhật trọng số\n",
        "            loss.backward()\n",
        "            optimizer.step()\n",
        "\n",
        "            # Ghi lại loss của batch\n",
        "            batch_train_losses.append(loss.item())\n",
        "\n",
        "        # Tính loss trung bình cho epoch\n",
        "        train_loss = sum(batch_train_losses) / len(batch_train_losses)\n",
        "        train_losses.append(train_loss)\n",
        "\n",
        "        # Đánh giá trên tập validation\n",
        "        val_loss, val_acc = evaluate(model, val_loader, criterion, device)\n",
        "        val_losses.append(val_loss)\n",
        "\n",
        "        # In kết quả\n",
        "        print(f'EPOCH {epoch + 1}:\\tTrain loss: {train_loss:.4f}\\tVal loss: {val_loss:.4f}')\n",
        "\n",
        "    return train_losses, val_losses"
      ],
      "metadata": {
        "id": "zV7MX2s49eGj"
      },
      "execution_count": null,
      "outputs": []
    },
    {
      "cell_type": "code",
      "source": [
        "def evaluate(model, dataloader, criterion, device):\n",
        "    \"\"\"\n",
        "    Đánh giá mô hình trên tập validation hoặc test.\n",
        "    \"\"\"\n",
        "    model.eval()  # Đặt mô hình ở chế độ đánh giá\n",
        "    correct = 0\n",
        "    total = 0\n",
        "    losses = []  # Lưu trữ loss của từng batch\n",
        "\n",
        "    with torch.no_grad():  # Không tính gradient trong quá trình đánh giá\n",
        "        for inputs, labels in dataloader:\n",
        "            # Đưa dữ liệu vào thiết bị\n",
        "            inputs, labels = inputs.to(device), labels.to(device)\n",
        "\n",
        "            # Forward pass\n",
        "            outputs = model(inputs)\n",
        "            loss = criterion(outputs, labels)\n",
        "            losses.append(loss.item())\n",
        "\n",
        "            # Dự đoán và tính số lượng dự đoán chính xác\n",
        "            _, predicted = torch.max(outputs.data, 1)\n",
        "            total += labels.size(0)\n",
        "            correct += (predicted == labels).sum().item()\n",
        "\n",
        "    # Tính loss và độ chính xác trung bình\n",
        "    loss = sum(losses) / len(losses)\n",
        "    acc = correct / total\n",
        "\n",
        "    return loss, acc"
      ],
      "metadata": {
        "id": "_h7NaZOE-Q70"
      },
      "execution_count": null,
      "outputs": []
    },
    {
      "cell_type": "code",
      "source": [
        "train_losses, val_losses = fit(model, train_loader, val_loader, criterion, optimizer, device, epochs)"
      ],
      "metadata": {
        "colab": {
          "base_uri": "https://localhost:8080/"
        },
        "id": "EoiHRQjT-cLr",
        "outputId": "2b2797b1-f464-4a1a-a09c-6016f3d7ca56"
      },
      "execution_count": null,
      "outputs": [
        {
          "output_type": "stream",
          "name": "stdout",
          "text": [
            "EPOCH 1:\tTrain loss: 1.0538\tVal loss: 0.9908\n",
            "EPOCH 2:\tTrain loss: 0.9684\tVal loss: 0.9655\n",
            "EPOCH 3:\tTrain loss: 0.9427\tVal loss: 0.9557\n",
            "EPOCH 4:\tTrain loss: 0.9417\tVal loss: 0.9518\n",
            "EPOCH 5:\tTrain loss: 0.9334\tVal loss: 0.9489\n",
            "EPOCH 6:\tTrain loss: 0.9321\tVal loss: 0.9464\n",
            "EPOCH 7:\tTrain loss: 0.9287\tVal loss: 0.9439\n",
            "EPOCH 8:\tTrain loss: 0.9290\tVal loss: 0.9417\n",
            "EPOCH 9:\tTrain loss: 0.9307\tVal loss: 0.9394\n",
            "EPOCH 10:\tTrain loss: 0.9275\tVal loss: 0.9387\n",
            "EPOCH 11:\tTrain loss: 0.9201\tVal loss: 0.9372\n",
            "EPOCH 12:\tTrain loss: 0.9168\tVal loss: 0.9361\n",
            "EPOCH 13:\tTrain loss: 0.9222\tVal loss: 0.9353\n",
            "EPOCH 14:\tTrain loss: 0.9166\tVal loss: 0.9345\n",
            "EPOCH 15:\tTrain loss: 0.9166\tVal loss: 0.9332\n",
            "EPOCH 16:\tTrain loss: 0.9176\tVal loss: 0.9328\n",
            "EPOCH 17:\tTrain loss: 0.9126\tVal loss: 0.9325\n",
            "EPOCH 18:\tTrain loss: 0.9147\tVal loss: 0.9319\n",
            "EPOCH 19:\tTrain loss: 0.9046\tVal loss: 0.9323\n",
            "EPOCH 20:\tTrain loss: 0.9109\tVal loss: 0.9321\n",
            "EPOCH 21:\tTrain loss: 0.9056\tVal loss: 0.9310\n",
            "EPOCH 22:\tTrain loss: 0.9075\tVal loss: 0.9304\n",
            "EPOCH 23:\tTrain loss: 0.9055\tVal loss: 0.9296\n",
            "EPOCH 24:\tTrain loss: 0.9044\tVal loss: 0.9290\n",
            "EPOCH 25:\tTrain loss: 0.9059\tVal loss: 0.9287\n",
            "EPOCH 26:\tTrain loss: 0.8943\tVal loss: 0.9291\n",
            "EPOCH 27:\tTrain loss: 0.8965\tVal loss: 0.9296\n",
            "EPOCH 28:\tTrain loss: 0.8922\tVal loss: 0.9287\n",
            "EPOCH 29:\tTrain loss: 0.9007\tVal loss: 0.9285\n",
            "EPOCH 30:\tTrain loss: 0.8946\tVal loss: 0.9280\n",
            "EPOCH 31:\tTrain loss: 0.8877\tVal loss: 0.9281\n",
            "EPOCH 32:\tTrain loss: 0.8901\tVal loss: 0.9284\n",
            "EPOCH 33:\tTrain loss: 0.8801\tVal loss: 0.9283\n",
            "EPOCH 34:\tTrain loss: 0.8882\tVal loss: 0.9276\n",
            "EPOCH 35:\tTrain loss: 0.8856\tVal loss: 0.9275\n",
            "EPOCH 36:\tTrain loss: 0.8787\tVal loss: 0.9278\n",
            "EPOCH 37:\tTrain loss: 0.8694\tVal loss: 0.9277\n",
            "EPOCH 38:\tTrain loss: 0.8738\tVal loss: 0.9272\n",
            "EPOCH 39:\tTrain loss: 0.8679\tVal loss: 0.9283\n",
            "EPOCH 40:\tTrain loss: 0.8671\tVal loss: 0.9279\n",
            "EPOCH 41:\tTrain loss: 0.8683\tVal loss: 0.9281\n",
            "EPOCH 42:\tTrain loss: 0.8572\tVal loss: 0.9299\n",
            "EPOCH 43:\tTrain loss: 0.8618\tVal loss: 0.9305\n",
            "EPOCH 44:\tTrain loss: 0.8645\tVal loss: 0.9339\n",
            "EPOCH 45:\tTrain loss: 0.8562\tVal loss: 0.9311\n",
            "EPOCH 46:\tTrain loss: 0.8525\tVal loss: 0.9313\n",
            "EPOCH 47:\tTrain loss: 0.8459\tVal loss: 0.9316\n",
            "EPOCH 48:\tTrain loss: 0.8441\tVal loss: 0.9345\n",
            "EPOCH 49:\tTrain loss: 0.8374\tVal loss: 0.9327\n",
            "EPOCH 50:\tTrain loss: 0.8251\tVal loss: 0.9296\n"
          ]
        }
      ]
    },
    {
      "cell_type": "code",
      "source": [
        "plt.plot(train_losses, label='Train Loss')\n",
        "plt.plot(val_losses, label='Validation Loss')\n",
        "plt.xlabel('Epoch')\n",
        "plt.ylabel('Loss')\n",
        "plt.legend()\n",
        "plt.show()"
      ],
      "metadata": {
        "colab": {
          "base_uri": "https://localhost:8080/",
          "height": 449
        },
        "id": "g2FMDMl1AIwL",
        "outputId": "435cbe13-c3a0-4571-f973-fae3c1dbc3dc"
      },
      "execution_count": null,
      "outputs": [
        {
          "output_type": "display_data",
          "data": {
            "text/plain": [
              "<Figure size 640x480 with 1 Axes>"
            ],
            "image/png": "[encoded data removed]"
          },
          "metadata": {}
        }
      ]
    },
    {
      "cell_type": "markdown",
      "source": [
        "12. Đánh giá mô hình:"
      ],
      "metadata": {
        "id": "CNTDksK--sL7"
      }
    },
    {
      "cell_type": "code",
      "source": [
        "# Đánh giá mô hình trên tập validation\n",
        "val_loss, val_acc = evaluate(\n",
        "    model,\n",
        "    val_loader,\n",
        "    criterion,\n",
        "    device\n",
        ")\n",
        "\n",
        "# Đánh giá mô hình trên tập test\n",
        "test_loss, test_acc = evaluate(\n",
        "    model,\n",
        "    test_loader,\n",
        "    criterion,\n",
        "    device\n",
        ")\n",
        "\n",
        "# In kết quả đánh giá\n",
        "print('Evaluation on val/test dataset')\n",
        "print(f'Val accuracy: {val_acc:.4f}')\n",
        "print(f'Test accuracy: {test_acc:.4f}')"
      ],
      "metadata": {
        "colab": {
          "base_uri": "https://localhost:8080/"
        },
        "id": "UhcpGqnE-7Ib",
        "outputId": "c644474a-5e0c-47b2-c6ba-50c02572e11b"
      },
      "execution_count": null,
      "outputs": [
        {
          "output_type": "stream",
          "name": "stdout",
          "text": [
            "Evaluation on val/test dataset\n",
            "Val accuracy: 0.5814\n",
            "Test accuracy: 0.6044\n"
          ]
        }
      ]
    },
    {
      "cell_type": "markdown",
      "source": [
        "## **Problem 02: Hourly Temperature Forecasting**"
      ],
      "metadata": {
        "id": "rClJ76hHAwu0"
      }
    },
    {
      "cell_type": "code",
      "source": [
        "import torch\n",
        "import torch .nn as nn\n",
        "\n",
        "seed = 1\n",
        "torch . manual_seed ( seed )\n",
        "\n",
        "import numpy as np\n",
        "import pandas as pd\n",
        "import matplotlib . pyplot as plt\n",
        "\n",
        "from torch.utils.data import Dataset\n",
        "\n",
        "from torch . utils . data import Dataset , DataLoader"
      ],
      "metadata": {
        "id": "Ed4ObMf-AyXa"
      },
      "execution_count": null,
      "outputs": []
    },
    {
      "cell_type": "code",
      "source": [
        "!unzip /content/dataset.zip"
      ],
      "metadata": {
        "colab": {
          "base_uri": "https://localhost:8080/"
        },
        "id": "0mD1ra2s5XRR",
        "outputId": "3d513f19-338f-426c-c4b1-c5fefa0f315a"
      },
      "execution_count": null,
      "outputs": [
        {
          "output_type": "stream",
          "name": "stdout",
          "text": [
            "Archive:  /content/dataset.zip\n",
            "   creating: dataset/\n",
            "  inflating: dataset/weatherHistory.csv  \n"
          ]
        }
      ]
    },
    {
      "cell_type": "code",
      "source": [
        "dataset_filepath = 'dataset/weatherHistory.csv'\n",
        "df = pd. read_csv ( dataset_filepath )"
      ],
      "metadata": {
        "id": "9OrEAIMf47mq"
      },
      "execution_count": null,
      "outputs": []
    },
    {
      "cell_type": "code",
      "source": [
        "univariate_df = df['Temperature (C)']\n",
        "univariate_df . index = df['Formatted Date']"
      ],
      "metadata": {
        "id": "mQkyekLD5Hea"
      },
      "execution_count": null,
      "outputs": []
    },
    {
      "cell_type": "code",
      "source": [
        "input_size = 6\n",
        "label_size = 1\n",
        "offset = 1\n",
        "\n",
        "def slicing_window(df, df_start_idx, df_end_idx, input_size, label_size, offset):\n",
        "    \"\"\"\n",
        "    Slices a DataFrame into features and labels using a sliding window approach.\n",
        "\n",
        "    Parameters:\n",
        "    df (array-like): Input data.\n",
        "    df_start_idx (int): Starting index for slicing.\n",
        "    df_end_idx (int): Ending index for slicing (optional, defaults to None).\n",
        "    input_size (int): Number of time steps for input features.\n",
        "    label_size (int): Number of time steps for labels.\n",
        "    offset (int): Offset between input and label windows.\n",
        "\n",
        "    Returns:\n",
        "    Tuple: Numpy arrays for features and labels.\n",
        "    \"\"\"\n",
        "    features = []\n",
        "    labels = []\n",
        "\n",
        "    # Calculate the window size for slicing\n",
        "    window_size = input_size + offset\n",
        "\n",
        "    # If df_end_idx is None, set it to the maximum valid index\n",
        "    if df_end_idx is None:\n",
        "        df_end_idx = len(df) - window_size\n",
        "\n",
        "    # Sliding window to extract features and labels\n",
        "    for idx in range(df_start_idx, df_end_idx):\n",
        "        feature_end_idx = idx + input_size\n",
        "        label_start_idx = idx + window_size - label_size\n",
        "\n",
        "        # Extract feature and label slices\n",
        "        feature = df[idx:feature_end_idx]\n",
        "        label = df[label_start_idx:(idx + window_size)]\n",
        "\n",
        "        features.append(feature)\n",
        "        labels.append(label)\n",
        "\n",
        "    # Convert features and labels to numpy arrays\n",
        "    features = np.expand_dims(np.array(features), axis=-1)\n",
        "    labels = np.array(labels)\n",
        "\n",
        "    return features, labels"
      ],
      "metadata": {
        "id": "Mssh-IyY5k2q"
      },
      "execution_count": null,
      "outputs": []
    },
    {
      "cell_type": "code",
      "source": [
        "# Define dataset splits\n",
        "dataset_length = len(univariate_df)\n",
        "train_size = 0.7\n",
        "val_size = 0.2\n",
        "\n",
        "# Compute split indices\n",
        "train_end_idx = int(train_size * dataset_length)\n",
        "val_end_idx = int(val_size * dataset_length) + train_end_idx\n",
        "\n",
        "# Training set slicing\n",
        "X_train, y_train = slicing_window(\n",
        "    univariate_df,\n",
        "    df_start_idx=0,\n",
        "    df_end_idx=train_end_idx,\n",
        "    input_size=input_size,\n",
        "    label_size=label_size,\n",
        "    offset=offset\n",
        ")\n",
        "\n",
        "# Validation set slicing\n",
        "X_val, y_val = slicing_window(\n",
        "    univariate_df,\n",
        "    df_start_idx=train_end_idx,\n",
        "    df_end_idx=val_end_idx,\n",
        "    input_size=input_size,\n",
        "    label_size=label_size,\n",
        "    offset=offset\n",
        ")\n",
        "\n",
        "# Test set slicing\n",
        "X_test, y_test = slicing_window(\n",
        "    univariate_df,\n",
        "    df_start_idx=val_end_idx,\n",
        "    df_end_idx=None,\n",
        "    input_size=input_size,\n",
        "    label_size=label_size,\n",
        "    offset=offset\n",
        ")"
      ],
      "metadata": {
        "id": "3DCftwTD8Ffp"
      },
      "execution_count": null,
      "outputs": []
    },
    {
      "cell_type": "code",
      "source": [
        "class WeatherForecast(Dataset):\n",
        "    \"\"\"\n",
        "    Custom PyTorch Dataset for Weather Forecast data.\n",
        "    \"\"\"\n",
        "\n",
        "    def __init__(self, X, y, transform=None):\n",
        "        \"\"\"\n",
        "        Initializes the WeatherForecast dataset.\n",
        "\n",
        "        Parameters:\n",
        "        X (array-like): Input features.\n",
        "        y (array-like): Target values.\n",
        "        transform (callable, optional): A function/transform to apply to the input features.\n",
        "        \"\"\"\n",
        "        self.X = X\n",
        "        self.y = y\n",
        "        self.transform = transform\n",
        "\n",
        "    def __len__(self):\n",
        "        \"\"\"\n",
        "        Returns the length of the dataset.\n",
        "        \"\"\"\n",
        "        return len(self.X)\n",
        "\n",
        "    def __getitem__(self, idx):\n",
        "        \"\"\"\n",
        "        Retrieves a single sample of data.\n",
        "\n",
        "        Parameters:\n",
        "        idx (int): Index of the data to fetch.\n",
        "\n",
        "        Returns:\n",
        "        tuple: Transformed input features and target values as torch tensors.\n",
        "        \"\"\"\n",
        "        X = self.X[idx]\n",
        "        y = self.y[idx]\n",
        "\n",
        "        # Apply transformation if provided\n",
        "        if self.transform:\n",
        "            X = self.transform(X)\n",
        "\n",
        "        # Convert to PyTorch tensors\n",
        "        X = torch.tensor(X, dtype=torch.float32)\n",
        "        y = torch.tensor(y, dtype=torch.float32)\n",
        "\n",
        "        return X, y"
      ],
      "metadata": {
        "id": "mecxMobv8Wj5"
      },
      "execution_count": null,
      "outputs": []
    },
    {
      "cell_type": "code",
      "source": [
        "from torch.utils.data import DataLoader\n",
        "\n",
        "# Initialize datasets\n",
        "train_dataset = WeatherForecast(X_train, y_train)\n",
        "val_dataset = WeatherForecast(X_val, y_val)\n",
        "test_dataset = WeatherForecast(X_test, y_test)\n",
        "\n",
        "# Define batch sizes\n",
        "train_batch_size = 128\n",
        "test_batch_size = 8\n",
        "\n",
        "# Initialize DataLoaders\n",
        "train_loader = DataLoader(\n",
        "    dataset=train_dataset,\n",
        "    batch_size=train_batch_size,\n",
        "    shuffle=True\n",
        ")\n",
        "\n",
        "val_loader = DataLoader(\n",
        "    dataset=val_dataset,\n",
        "    batch_size=test_batch_size,\n",
        "    shuffle=False\n",
        ")\n",
        "\n",
        "test_loader = DataLoader(\n",
        "    dataset=test_dataset,\n",
        "    batch_size=test_batch_size,\n",
        "    shuffle=False\n",
        ")"
      ],
      "metadata": {
        "id": "SFyzp8Rp8lv5"
      },
      "execution_count": null,
      "outputs": []
    },
    {
      "cell_type": "code",
      "source": [
        "class WeatherForecastor(nn.Module):\n",
        "    \"\"\"\n",
        "    A Recurrent Neural Network (RNN)-based model for weather forecasting.\n",
        "    \"\"\"\n",
        "\n",
        "    def __init__(self, embedding_dim, hidden_size, n_layers, dropout_prob):\n",
        "        \"\"\"\n",
        "        Initializes the WeatherForecastor model.\n",
        "\n",
        "        Parameters:\n",
        "        embedding_dim (int): Input feature dimension.\n",
        "        hidden_size (int): Hidden state size of the RNN.\n",
        "        n_layers (int): Number of RNN layers.\n",
        "        dropout_prob (float): Dropout probability.\n",
        "        \"\"\"\n",
        "        super(WeatherForecastor, self).__init__()\n",
        "\n",
        "        # Define the RNN layer\n",
        "        self.rnn = nn.RNN(\n",
        "            input_size=embedding_dim,\n",
        "            hidden_size=hidden_size,\n",
        "            num_layers=n_layers,\n",
        "            batch_first=True\n",
        "        )\n",
        "\n",
        "        # Normalization, Dropout, and Fully Connected layer\n",
        "        self.norm = nn.LayerNorm(hidden_size)\n",
        "        self.dropout = nn.Dropout(dropout_prob)\n",
        "        self.fc = nn.Linear(hidden_size, 1)\n",
        "\n",
        "    def forward(self, x):\n",
        "        \"\"\"\n",
        "        Forward pass of the WeatherForecastor model.\n",
        "\n",
        "        Parameters:\n",
        "        x (Tensor): Input tensor of shape (batch_size, seq_length, embedding_dim).\n",
        "\n",
        "        Returns:\n",
        "        Tensor: Output tensor of shape (batch_size, 1).\n",
        "        \"\"\"\n",
        "        # Pass through the RNN\n",
        "        x, _ = self.rnn(x)\n",
        "\n",
        "        # Extract the last timestep\n",
        "        x = x[:, -1, :]\n",
        "\n",
        "        # Apply normalization, dropout, and the fully connected layer\n",
        "        x = self.norm(x)\n",
        "        x = self.dropout(x)\n",
        "        x = self.fc(x)\n",
        "\n",
        "        return x"
      ],
      "metadata": {
        "id": "ILif1lze8-85"
      },
      "execution_count": null,
      "outputs": []
    },
    {
      "cell_type": "code",
      "source": [
        "# Model hyperparameters\n",
        "embedding_dim = 1\n",
        "hidden_size = 8\n",
        "n_layers = 3\n",
        "dropout_prob = 0.2\n",
        "\n",
        "# Device configuration\n",
        "device = 'cuda' if torch.cuda.is_available() else 'cpu'\n",
        "\n",
        "# Model instantiation\n",
        "model = WeatherForecastor(\n",
        "    embedding_dim=embedding_dim,\n",
        "    hidden_size=hidden_size,\n",
        "    n_layers=n_layers,\n",
        "    dropout_prob=dropout_prob\n",
        ").to(device)"
      ],
      "metadata": {
        "id": "h5EBnwI79NkZ"
      },
      "execution_count": null,
      "outputs": []
    },
    {
      "cell_type": "code",
      "source": [
        "lr = 1e-3\n",
        "epochs = 50\n",
        "\n",
        "criterion = nn. MSELoss ()\n",
        "optimizer = torch . optim . Adam (model . parameters () ,lr=lr)"
      ],
      "metadata": {
        "id": "HFv742fZ9hKp"
      },
      "execution_count": null,
      "outputs": []
    },
    {
      "cell_type": "code",
      "source": [
        "train_losses , val_losses = fit( model ,train_loader , val_loader ,criterion ,optimizer ,device ,epochs)"
      ],
      "metadata": {
        "colab": {
          "base_uri": "https://localhost:8080/"
        },
        "id": "5qKA65ac9vBp",
        "outputId": "ed5f75fd-1bd6-4065-bffd-2abb10613334"
      },
      "execution_count": null,
      "outputs": [
        {
          "output_type": "stream",
          "name": "stdout",
          "text": [
            "EPOCH 1:\tTrain loss: 126.7144\tVal loss: 41.0000\n",
            "EPOCH 2:\tTrain loss: 29.9093\tVal loss: 7.3274\n",
            "EPOCH 3:\tTrain loss: 16.1273\tVal loss: 3.4272\n",
            "EPOCH 4:\tTrain loss: 13.1546\tVal loss: 3.0708\n",
            "EPOCH 5:\tTrain loss: 11.6122\tVal loss: 2.1856\n",
            "EPOCH 6:\tTrain loss: 10.6032\tVal loss: 1.8872\n",
            "EPOCH 7:\tTrain loss: 10.1788\tVal loss: 1.7648\n",
            "EPOCH 8:\tTrain loss: 9.6495\tVal loss: 1.8416\n",
            "EPOCH 9:\tTrain loss: 9.3395\tVal loss: 2.0046\n",
            "EPOCH 10:\tTrain loss: 9.1364\tVal loss: 1.6814\n",
            "EPOCH 11:\tTrain loss: 8.8933\tVal loss: 1.5721\n",
            "EPOCH 12:\tTrain loss: 8.8007\tVal loss: 1.5610\n",
            "EPOCH 13:\tTrain loss: 8.4925\tVal loss: 2.1109\n",
            "EPOCH 14:\tTrain loss: 8.4098\tVal loss: 1.8387\n",
            "EPOCH 15:\tTrain loss: 8.2465\tVal loss: 1.6703\n",
            "EPOCH 16:\tTrain loss: 7.8910\tVal loss: 1.9198\n",
            "EPOCH 17:\tTrain loss: 7.8164\tVal loss: 1.5562\n",
            "EPOCH 18:\tTrain loss: 7.7346\tVal loss: 1.9940\n",
            "EPOCH 19:\tTrain loss: 7.5003\tVal loss: 1.5797\n",
            "EPOCH 20:\tTrain loss: 7.4499\tVal loss: 1.5617\n",
            "EPOCH 21:\tTrain loss: 7.2653\tVal loss: 1.9261\n",
            "EPOCH 22:\tTrain loss: 7.0328\tVal loss: 1.5220\n",
            "EPOCH 23:\tTrain loss: 7.0365\tVal loss: 1.5312\n",
            "EPOCH 24:\tTrain loss: 6.9226\tVal loss: 1.6209\n",
            "EPOCH 25:\tTrain loss: 6.7231\tVal loss: 1.5515\n",
            "EPOCH 26:\tTrain loss: 6.6888\tVal loss: 1.7982\n",
            "EPOCH 27:\tTrain loss: 6.6834\tVal loss: 1.4593\n",
            "EPOCH 28:\tTrain loss: 6.5051\tVal loss: 1.5324\n",
            "EPOCH 29:\tTrain loss: 6.4495\tVal loss: 1.6852\n",
            "EPOCH 30:\tTrain loss: 6.3551\tVal loss: 1.4853\n",
            "EPOCH 31:\tTrain loss: 6.3339\tVal loss: 1.4746\n",
            "EPOCH 32:\tTrain loss: 6.2755\tVal loss: 1.7794\n",
            "EPOCH 33:\tTrain loss: 6.1758\tVal loss: 1.5095\n",
            "EPOCH 34:\tTrain loss: 6.1486\tVal loss: 1.4999\n",
            "EPOCH 35:\tTrain loss: 6.0633\tVal loss: 1.5559\n",
            "EPOCH 36:\tTrain loss: 5.9261\tVal loss: 1.5040\n",
            "EPOCH 37:\tTrain loss: 5.9459\tVal loss: 1.7902\n",
            "EPOCH 38:\tTrain loss: 5.9284\tVal loss: 1.4839\n",
            "EPOCH 39:\tTrain loss: 5.8388\tVal loss: 1.5184\n",
            "EPOCH 40:\tTrain loss: 5.8971\tVal loss: 1.5953\n",
            "EPOCH 41:\tTrain loss: 5.8354\tVal loss: 1.7025\n",
            "EPOCH 42:\tTrain loss: 5.7939\tVal loss: 1.8754\n",
            "EPOCH 43:\tTrain loss: 5.7817\tVal loss: 1.6455\n",
            "EPOCH 44:\tTrain loss: 5.7364\tVal loss: 1.7377\n",
            "EPOCH 45:\tTrain loss: 5.6730\tVal loss: 1.8497\n",
            "EPOCH 46:\tTrain loss: 5.6547\tVal loss: 1.4514\n",
            "EPOCH 47:\tTrain loss: 5.6677\tVal loss: 1.6265\n",
            "EPOCH 48:\tTrain loss: 5.5868\tVal loss: 1.5317\n",
            "EPOCH 49:\tTrain loss: 5.5606\tVal loss: 1.5853\n",
            "EPOCH 50:\tTrain loss: 5.5934\tVal loss: 1.5194\n"
          ]
        }
      ]
    },
    {
      "cell_type": "code",
      "source": [
        "val_loss = evaluate ( model , val_loader , criterion , device )\n",
        "test_loss = evaluate (model ,test_loader , criterion , device )\n",
        "\n",
        "print ('Evaluation on val/test dataset')\n",
        "print ('Val loss : ', val_loss )\n",
        "print ('Test loss :', test_loss )"
      ],
      "metadata": {
        "colab": {
          "base_uri": "https://localhost:8080/"
        },
        "id": "uuX9ZhKB-DFx",
        "outputId": "b881be47-af25-4e1f-9a77-50568091b825"
      },
      "execution_count": null,
      "outputs": [
        {
          "output_type": "stream",
          "name": "stdout",
          "text": [
            "Evaluation on val/test dataset\n",
            "Val loss :  (1.519397990293652, 0.005391394504924832)\n",
            "Test loss : (1.3313042788764393, 0.006639692914202718)\n"
          ]
        }
      ]
    },
    {
      "cell_type": "code",
      "source": [
        "import matplotlib.pyplot as plt\n",
        "import torch\n",
        "\n",
        "def plot_difference(y, pred):\n",
        "    \"\"\"\n",
        "    Plots the true values vs. predicted values over time.\n",
        "\n",
        "    Parameters:\n",
        "    y (array-like): True values.\n",
        "    pred (array-like): Predicted values.\n",
        "    \"\"\"\n",
        "    plt.figure(figsize=(20, 6))\n",
        "    times = range(len(y))\n",
        "\n",
        "    # Flatten inputs for consistent shape\n",
        "    y_to_plot = y.flatten()\n",
        "    pred_to_plot = pred.flatten()\n",
        "\n",
        "    # Plot true and predicted values\n",
        "    plt.plot(times, y_to_plot, color='steelblue', marker='o', label='True Value')\n",
        "    plt.plot(times, pred_to_plot, color='orangered', marker='x', label='Prediction')\n",
        "\n",
        "    # Add titles and labels\n",
        "    plt.title('Temperature in Every Hour')\n",
        "    plt.xlabel('Hour')\n",
        "    plt.ylabel('Temperature (C)')\n",
        "    plt.legend()\n",
        "    plt.show()\n",
        "\n",
        "# Prepare test inputs\n",
        "inputs = torch.tensor(X_test[:100], dtype=torch.float32).to(device)\n",
        "\n",
        "# Model evaluation\n",
        "model.eval()\n",
        "with torch.no_grad():\n",
        "    outputs = model(inputs).detach().cpu().numpy()\n",
        "\n",
        "# Plot true vs. predicted values\n",
        "plot_difference(y_test[:100], outputs)"
      ],
      "metadata": {
        "colab": {
          "base_uri": "https://localhost:8080/",
          "height": 392
        },
        "id": "n5F4yFj_--Xp",
        "outputId": "dff81322-bc15-48d5-8d65-fe113d8c3beb"
      },
      "execution_count": null,
      "outputs": [
        {
          "output_type": "display_data",
          "data": {
            "text/plain": [
              "<Figure size 2000x600 with 1 Axes>"
            ],
            "image/png": "[encoded data removed]"
          },
          "metadata": {}
        }
      ]
    },
    {
      "cell_type": "code",
      "source": [
        "import torch\n",
        "import torch .nn as nn\n",
        "\n",
        "input_tensor = torch . randn (5 , 10 , 10)\n",
        "\n",
        "lstm = nn. LSTM ( input_size =10 , hidden_size =20 , num_layers =2 , batch_first = True )\n",
        "bilstm = nn. LSTM ( input_size =10 , hidden_size =20 , num_layers =2 , batch_first =True ,bidirectional = True )\n",
        "\n",
        "output_lstm , ( hidden_state_lstm , cell_state_lstm ) = lstm ( input_tensor )\n",
        "\n",
        "output_bilstm , ( hidden_state_bilstm , cell_state_bilstm ) = bilstm ( input_tensor )\n",
        "\n",
        "print ( output_lstm . shape )\n",
        "print ( output_bilstm . shape )"
      ],
      "metadata": {
        "colab": {
          "base_uri": "https://localhost:8080/"
        },
        "id": "bQc-D8VTacPw",
        "outputId": "5c852c86-9035-4c89-c86d-1856d62e52aa"
      },
      "execution_count": null,
      "outputs": [
        {
          "output_type": "stream",
          "name": "stdout",
          "text": [
            "torch.Size([5, 10, 20])\n",
            "torch.Size([5, 10, 40])\n"
          ]
        }
      ]
    }
  ]
}